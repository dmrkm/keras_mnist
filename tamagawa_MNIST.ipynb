{
  "nbformat": 4,
  "nbformat_minor": 0,
  "metadata": {
    "accelerator": "GPU",
    "colab": {
      "provenance": [],
      "collapsed_sections": [],
      "include_colab_link": true
    },
    "kernelspec": {
      "display_name": "Python 3",
      "language": "python",
      "name": "python3"
    },
    "language_info": {
      "codemirror_mode": {
        "name": "ipython",
        "version": 3
      },
      "file_extension": ".py",
      "mimetype": "text/x-python",
      "name": "python",
      "nbconvert_exporter": "python",
      "pygments_lexer": "ipython3",
      "version": "3.7.9"
    }
  },
  "cells": [
    {
      "cell_type": "markdown",
      "metadata": {
        "id": "view-in-github",
        "colab_type": "text"
      },
      "source": [
        "<a href=\"https://colab.research.google.com/github/dmrkm/keras_mnist/blob/master/tamagawa_MNIST.ipynb\" target=\"_parent\"><img src=\"https://colab.research.google.com/assets/colab-badge.svg\" alt=\"Open In Colab\"/></a>"
      ]
    },
    {
      "cell_type": "markdown",
      "source": [
        "# 深層学習を使って手書き数字を認識する"
      ],
      "metadata": {
        "id": "r1kJK6AzA0Ut"
      }
    },
    {
      "cell_type": "markdown",
      "source": [
        "# ライブラリ"
      ],
      "metadata": {
        "id": "j47fZyF9A0Uu"
      }
    },
    {
      "cell_type": "markdown",
      "source": [
        "## 学習モデルのロードとデータ取得に必要なライブラリ"
      ],
      "metadata": {
        "id": "TWw2Wx1LA0Ux"
      }
    },
    {
      "cell_type": "markdown",
      "source": [
        "### 基本処理、画像描画用のライブラリ"
      ],
      "metadata": {
        "id": "gEpDBtEAA0U0"
      }
    },
    {
      "cell_type": "code",
      "execution_count": 1,
      "source": [
        "import matplotlib.pyplot as plt\n",
        "import numpy as np\n",
        "\n",
        "%matplotlib inline\n",
        "\n",
        "import cv2\n",
        "import os\n",
        "from IPython.display import clear_output"
      ],
      "outputs": [],
      "metadata": {
        "id": "ECIh1_WVA0U0"
      }
    },
    {
      "cell_type": "markdown",
      "source": [
        "# 学習データの準備"
      ],
      "metadata": {
        "id": "XznEHx7UA0U2"
      }
    },
    {
      "cell_type": "code",
      "execution_count": 2,
      "source": [
        "from tensorflow.keras.datasets import mnist\n",
        "\n",
        "# the data, split between train and test sets\n",
        "(x_train, y_train), (x_test, y_test) = mnist.load_data()"
      ],
      "outputs": [
        {
          "output_type": "stream",
          "name": "stdout",
          "text": [
            "Downloading data from https://storage.googleapis.com/tensorflow/tf-keras-datasets/mnist.npz\n",
            "11490434/11490434 [==============================] - 0s 0us/step\n"
          ]
        }
      ],
      "metadata": {
        "id": "0i-cdhXKA0U3",
        "colab": {
          "base_uri": "https://localhost:8080/"
        },
        "outputId": "bfa46384-798b-4600-a2e9-2570f090dcf2"
      }
    },
    {
      "cell_type": "markdown",
      "source": [
        "## データの確認\n",
        "手書き数字画像データ 訓練データの一番目の画像を確認"
      ],
      "metadata": {
        "id": "E4S4ogxqA0U5"
      }
    },
    {
      "cell_type": "code",
      "execution_count": 3,
      "source": [
        "plt.imshow(x_train[0], cmap=\"gray\")\n",
        "plt.xticks([]);\n",
        "plt.yticks([]);\n",
        "plt.savefig(\"predict_test.png\")"
      ],
      "outputs": [
        {
          "output_type": "display_data",
          "data": {
            "text/plain": [
              "<Figure size 432x288 with 1 Axes>"
            ],
            "image/png": "[encoded data removed]"
          },
          "metadata": {}
        }
      ],
      "metadata": {
        "colab": {
          "base_uri": "https://localhost:8080/",
          "height": 252
        },
        "id": "G2AMdp99A0U5",
        "outputId": "55c3a68b-2a2f-43e1-ed40-bfb972d711be"
      }
    },
    {
      "cell_type": "markdown",
      "source": [
        "訓練データ一番目の正解ラベルを調べる"
      ],
      "metadata": {
        "id": "ah9oG5qfA0U7"
      }
    },
    {
      "cell_type": "code",
      "execution_count": 4,
      "source": [
        "y_train[0]"
      ],
      "outputs": [
        {
          "output_type": "execute_result",
          "data": {
            "text/plain": [
              "5"
            ]
          },
          "metadata": {},
          "execution_count": 4
        }
      ],
      "metadata": {
        "colab": {
          "base_uri": "https://localhost:8080/"
        },
        "id": "Zk4vE1dxA0U7",
        "outputId": "148610d5-553b-4d25-be47-a28052ea95cf"
      }
    },
    {
      "cell_type": "markdown",
      "source": [
        "訓練データ先頭の81個の画像を確認する"
      ],
      "metadata": {
        "id": "oINF3fW1A0U9"
      }
    },
    {
      "cell_type": "code",
      "execution_count": 5,
      "source": [
        "fig = plt.figure(figsize=(9, 9))\n",
        "fig.subplots_adjust(left=0, right=1, bottom=0, top=0.5, hspace=0.05, wspace=0.05)\n",
        "\n",
        "for i in range(81):\n",
        "    ax = fig.add_subplot(9, 9, i + 1, xticks=[], yticks=[])\n",
        "    ax.imshow(x_train[i].reshape(28, 28), cmap=\"gray\")"
      ],
      "outputs": [
        {
          "output_type": "display_data",
          "data": {
            "text/plain": [
              "<Figure size 648x648 with 81 Axes>"
            ],
            "image/png": "[encoded data removed]"
          },
          "metadata": {}
        }
      ],
      "metadata": {
        "colab": {
          "base_uri": "https://localhost:8080/",
          "height": 358
        },
        "id": "6ri2QiaKA0U9",
        "outputId": "cd720b35-2a1e-4785-9f50-fb4515ae7ba1"
      }
    },
    {
      "cell_type": "markdown",
      "source": [
        "訓練データの正解ラベルの先頭81個を表示"
      ],
      "metadata": {
        "id": "nCw7J6UDA0U_"
      }
    },
    {
      "cell_type": "code",
      "execution_count": 6,
      "source": [
        "y_train[:81]"
      ],
      "outputs": [
        {
          "output_type": "execute_result",
          "data": {
            "text/plain": [
              "array([5, 0, 4, 1, 9, 2, 1, 3, 1, 4, 3, 5, 3, 6, 1, 7, 2, 8, 6, 9, 4, 0,\n",
              "       9, 1, 1, 2, 4, 3, 2, 7, 3, 8, 6, 9, 0, 5, 6, 0, 7, 6, 1, 8, 7, 9,\n",
              "       3, 9, 8, 5, 9, 3, 3, 0, 7, 4, 9, 8, 0, 9, 4, 1, 4, 4, 6, 0, 4, 5,\n",
              "       6, 1, 0, 0, 1, 7, 1, 6, 3, 0, 2, 1, 1, 7, 9], dtype=uint8)"
            ]
          },
          "metadata": {},
          "execution_count": 6
        }
      ],
      "metadata": {
        "colab": {
          "base_uri": "https://localhost:8080/"
        },
        "id": "6cW-RiXNA0U_",
        "outputId": "66a631a8-937c-43cc-abbf-04e1ea6331ad"
      }
    },
    {
      "cell_type": "markdown",
      "source": [
        "訓練データの正解ラベルのユニークな種別を表示"
      ],
      "metadata": {
        "id": "RHpWhUoWA0VB"
      }
    },
    {
      "cell_type": "code",
      "execution_count": 7,
      "source": [
        "import numpy as np"
      ],
      "outputs": [],
      "metadata": {
        "id": "5ePgKyeGA0VB"
      }
    },
    {
      "cell_type": "code",
      "execution_count": 8,
      "source": [
        "classes = np.unique(y_train)\n",
        "classes"
      ],
      "outputs": [
        {
          "output_type": "execute_result",
          "data": {
            "text/plain": [
              "array([0, 1, 2, 3, 4, 5, 6, 7, 8, 9], dtype=uint8)"
            ]
          },
          "metadata": {},
          "execution_count": 8
        }
      ],
      "metadata": {
        "colab": {
          "base_uri": "https://localhost:8080/"
        },
        "id": "rw2WqoffA0VD",
        "outputId": "98726c15-e730-47ec-e13e-be7a014a8190"
      }
    },
    {
      "cell_type": "markdown",
      "source": [
        "画像から識別したいラベルの種類は10種類"
      ],
      "metadata": {
        "id": "PAnJ2k8iA0VF"
      }
    },
    {
      "cell_type": "code",
      "execution_count": 9,
      "source": [
        "num_classes = len(classes)\n",
        "num_classes"
      ],
      "outputs": [
        {
          "output_type": "execute_result",
          "data": {
            "text/plain": [
              "10"
            ]
          },
          "metadata": {},
          "execution_count": 9
        }
      ],
      "metadata": {
        "colab": {
          "base_uri": "https://localhost:8080/"
        },
        "id": "mjD3_wwfA0VF",
        "outputId": "a1dc3ec3-94a8-4eed-acf7-1ac57e560e05"
      }
    },
    {
      "cell_type": "markdown",
      "source": [
        "# 深層学習のための準備"
      ],
      "metadata": {
        "id": "fFHuHhtoA0VH"
      }
    },
    {
      "cell_type": "markdown",
      "source": [
        "### 深層学習用のライブラリ  "
      ],
      "metadata": {
        "id": "4uRymOw4A0Uu"
      }
    },
    {
      "cell_type": "code",
      "execution_count": 10,
      "source": [
        "import tensorflow.keras as keras\n",
        "from tensorflow.keras.models import Sequential\n",
        "from tensorflow.keras.layers import Dense, Dropout, Flatten\n",
        "from tensorflow.keras.layers import Conv2D, MaxPooling2D\n",
        "from tensorflow.keras import backend as K"
      ],
      "outputs": [],
      "metadata": {
        "id": "pwrtn4NXsQbN"
      }
    },
    {
      "cell_type": "code",
      "execution_count": 11,
      "source": [
        "# input image dimensions\n",
        "img_rows, img_cols = x_train[0].shape\n",
        "# 28, 28\n",
        "\n",
        "if K.image_data_format() == 'channels_first':\n",
        "    x_train = x_train.reshape(x_train.shape[0], 1, img_rows, img_cols)\n",
        "    x_test = x_test.reshape(x_test.shape[0], 1, img_rows, img_cols)\n",
        "    input_shape = (1, img_rows, img_cols)\n",
        "else:\n",
        "    x_train = x_train.reshape(x_train.shape[0], img_rows, img_cols, 1)\n",
        "    x_test = x_test.reshape(x_test.shape[0], img_rows, img_cols, 1)\n",
        "    input_shape = (img_rows, img_cols, 1)\n",
        "\n",
        "x_train = x_train.astype('float32')\n",
        "x_test = x_test.astype('float32')\n",
        "x_train /= 255\n",
        "x_test /= 255\n",
        "\n",
        "print('x_train shape:', x_train.shape)\n",
        "print(x_train.shape[0], 'train samples')\n",
        "print(x_test.shape[0], 'test samples')\n",
        "\n",
        "# convert class vectors to binary class matrices\n",
        "y_train = keras.utils.to_categorical(y_train, num_classes)\n",
        "y_test = keras.utils.to_categorical(y_test, num_classes)"
      ],
      "outputs": [
        {
          "output_type": "stream",
          "name": "stdout",
          "text": [
            "x_train shape: (60000, 28, 28, 1)\n",
            "60000 train samples\n",
            "10000 test samples\n"
          ]
        }
      ],
      "metadata": {
        "colab": {
          "base_uri": "https://localhost:8080/"
        },
        "id": "dY067k9usHlD",
        "outputId": "2e0203ab-1113-461e-9e4e-e6cb514840eb"
      }
    },
    {
      "cell_type": "markdown",
      "source": [
        "# 畳み込みニューラルネットワークの実装"
      ],
      "metadata": {
        "id": "FjnQAgAjA0VJ"
      }
    },
    {
      "cell_type": "code",
      "execution_count": 12,
      "source": [
        "model = Sequential()\n",
        "model.add(Conv2D(32, kernel_size=(3, 3),\n",
        "                 activation='relu',\n",
        "                 input_shape=input_shape))\n",
        "model.add(Conv2D(64, (3, 3), activation='relu'))\n",
        "model.add(MaxPooling2D(pool_size=(2, 2)))\n",
        "model.add(Dropout(0.25))\n",
        "model.add(Flatten())\n",
        "model.add(Dense(128, activation='relu'))\n",
        "model.add(Dropout(0.5))\n",
        "model.add(Dense(num_classes, activation='softmax'))"
      ],
      "outputs": [],
      "metadata": {
        "id": "pJ2PtKClvEv5"
      }
    },
    {
      "cell_type": "markdown",
      "source": [
        "### モデルのサマリー"
      ],
      "metadata": {
        "id": "Yczf3u7VA0VL"
      }
    },
    {
      "cell_type": "code",
      "execution_count": 13,
      "source": [
        "model.summary()"
      ],
      "outputs": [
        {
          "output_type": "stream",
          "name": "stdout",
          "text": [
            "Model: \"sequential\"\n",
            "_________________________________________________________________\n",
            " Layer (type)                Output Shape              Param #   \n",
            "=================================================================\n",
            " conv2d (Conv2D)             (None, 26, 26, 32)        320       \n",
            "                                                                 \n",
            " conv2d_1 (Conv2D)           (None, 24, 24, 64)        18496     \n",
            "                                                                 \n",
            " max_pooling2d (MaxPooling2D  (None, 12, 12, 64)       0         \n",
            " )                                                               \n",
            "                                                                 \n",
            " dropout (Dropout)           (None, 12, 12, 64)        0         \n",
            "                                                                 \n",
            " flatten (Flatten)           (None, 9216)              0         \n",
            "                                                                 \n",
            " dense (Dense)               (None, 128)               1179776   \n",
            "                                                                 \n",
            " dropout_1 (Dropout)         (None, 128)               0         \n",
            "                                                                 \n",
            " dense_1 (Dense)             (None, 10)                1290      \n",
            "                                                                 \n",
            "=================================================================\n",
            "Total params: 1,199,882\n",
            "Trainable params: 1,199,882\n",
            "Non-trainable params: 0\n",
            "_________________________________________________________________\n"
          ]
        }
      ],
      "metadata": {
        "colab": {
          "base_uri": "https://localhost:8080/"
        },
        "id": "sbNMbyS4vKr5",
        "outputId": "8d28c241-0630-4c5d-9724-ce634f106582"
      }
    },
    {
      "cell_type": "markdown",
      "source": [
        "# モデルのコンパイル"
      ],
      "metadata": {
        "id": "jr3g_jyBA0VM"
      }
    },
    {
      "cell_type": "code",
      "execution_count": 14,
      "source": [
        "model.compile(loss=keras.losses.categorical_crossentropy,\n",
        "              optimizer=keras.optimizers.Adadelta(),\n",
        "              metrics=['accuracy'])"
      ],
      "outputs": [],
      "metadata": {
        "id": "vzfM2HYQvO-g"
      }
    },
    {
      "cell_type": "markdown",
      "source": [
        "# 学習データの訓練および検証"
      ],
      "metadata": {
        "id": "nvrb6enKA0VO"
      }
    },
    {
      "cell_type": "markdown",
      "source": [
        "## 学習設定"
      ],
      "metadata": {
        "id": "E6KElpw5A0VO"
      }
    },
    {
      "cell_type": "code",
      "execution_count": 15,
      "source": [
        "batch_size = 128\n",
        "num_classes = 10\n",
        "epochs = 12"
      ],
      "outputs": [],
      "metadata": {
        "id": "Q4Okf0PCvRFJ"
      }
    },
    {
      "cell_type": "markdown",
      "source": [
        "## 学習の実行"
      ],
      "metadata": {
        "id": "PBuEKlfJA0VR"
      }
    },
    {
      "cell_type": "code",
      "execution_count": 16,
      "source": [
        "model.fit(x_train, y_train,\n",
        "          batch_size=batch_size,\n",
        "          epochs=epochs,\n",
        "          verbose=1,\n",
        "          validation_data=(x_test, y_test))\n",
        "score = model.evaluate(x_test, y_test, verbose=0)\n",
        "print('Test loss:', score[0])\n",
        "print('Test accuracy:', score[1])"
      ],
      "outputs": [
        {
          "output_type": "stream",
          "name": "stdout",
          "text": [
            "Epoch 1/12\n",
            "469/469 [==============================] - 13s 10ms/step - loss: 2.2796 - accuracy: 0.1401 - val_loss: 2.2325 - val_accuracy: 0.2431\n",
            "Epoch 2/12\n",
            "469/469 [==============================] - 5s 10ms/step - loss: 2.2032 - accuracy: 0.2577 - val_loss: 2.1365 - val_accuracy: 0.4783\n",
            "Epoch 3/12\n",
            "469/469 [==============================] - 4s 9ms/step - loss: 2.1047 - accuracy: 0.3671 - val_loss: 2.0107 - val_accuracy: 0.6478\n",
            "Epoch 4/12\n",
            "469/469 [==============================] - 4s 9ms/step - loss: 1.9743 - accuracy: 0.4653 - val_loss: 1.8455 - val_accuracy: 0.7146\n",
            "Epoch 5/12\n",
            "469/469 [==============================] - 4s 9ms/step - loss: 1.8138 - accuracy: 0.5383 - val_loss: 1.6456 - val_accuracy: 0.7570\n",
            "Epoch 6/12\n",
            "469/469 [==============================] - 4s 9ms/step - loss: 1.6327 - accuracy: 0.5888 - val_loss: 1.4295 - val_accuracy: 0.7812\n",
            "Epoch 7/12\n",
            "469/469 [==============================] - 5s 10ms/step - loss: 1.4541 - accuracy: 0.6240 - val_loss: 1.2245 - val_accuracy: 0.7977\n",
            "Epoch 8/12\n",
            "469/469 [==============================] - 4s 9ms/step - loss: 1.2955 - accuracy: 0.6514 - val_loss: 1.0513 - val_accuracy: 0.8133\n",
            "Epoch 9/12\n",
            "469/469 [==============================] - 4s 9ms/step - loss: 1.1656 - accuracy: 0.6739 - val_loss: 0.9150 - val_accuracy: 0.8259\n",
            "Epoch 10/12\n",
            "469/469 [==============================] - 4s 9ms/step - loss: 1.0686 - accuracy: 0.6930 - val_loss: 0.8116 - val_accuracy: 0.8360\n",
            "Epoch 11/12\n",
            "469/469 [==============================] - 4s 9ms/step - loss: 0.9844 - accuracy: 0.7122 - val_loss: 0.7313 - val_accuracy: 0.8447\n",
            "Epoch 12/12\n",
            "469/469 [==============================] - 4s 9ms/step - loss: 0.9205 - accuracy: 0.7270 - val_loss: 0.6696 - val_accuracy: 0.8513\n",
            "Test loss: 0.669623613357544\n",
            "Test accuracy: 0.8513000011444092\n"
          ]
        }
      ],
      "metadata": {
        "colab": {
          "base_uri": "https://localhost:8080/"
        },
        "id": "1fZirDnqvSvj",
        "outputId": "3ce870d4-fd31-42ce-b551-c27ec70984de"
      }
    },
    {
      "cell_type": "markdown",
      "source": [
        "# モデルの読み込み\n",
        "上記学習よりも精度の良い **学習モデル** ファイル（h5形式）を読み込み、手書き数字の推論を行う。"
      ],
      "metadata": {
        "id": "nLd-NXbRA0VT"
      }
    },
    {
      "cell_type": "code",
      "execution_count": 17,
      "source": [
        "from tensorflow.keras.models import load_model\n",
        "from tensorflow.keras.preprocessing.image import img_to_array, load_img"
      ],
      "outputs": [],
      "metadata": {
        "id": "v1tWRWm4cpCD"
      }
    },
    {
      "cell_type": "markdown",
      "source": [
        "## モデルの読み込み"
      ],
      "metadata": {
        "id": "mO2AXpQUA0VV"
      }
    },
    {
      "cell_type": "markdown",
      "source": [
        "### Google ColabratoryでGitHubリポジトリのモデルを使用するための設定\n",
        "GoogleDriveに保存した手書き数字画像を推論するための学習済みモデルをロードする"
      ],
      "metadata": {
        "id": "R95tLoE4mlqF"
      }
    },
    {
      "cell_type": "code",
      "execution_count": 18,
      "source": [
        "# Google DriveをColabratoryにマウント\n",
        "from google.colab import drive\n",
        "drive.mount('/content/gdrive')"
      ],
      "outputs": [
        {
          "output_type": "stream",
          "name": "stdout",
          "text": [
            "Mounted at /content/gdrive\n"
          ]
        }
      ],
      "metadata": {
        "colab": {
          "base_uri": "https://localhost:8080/"
        },
        "id": "uhqH1FgQam3H",
        "outputId": "0171f22c-fdb0-4a4d-d45e-f75530bd9f8b"
      }
    },
    {
      "cell_type": "code",
      "execution_count": 19,
      "source": [
        "# マウントされたGoogle Driveに作業場所を変更\n",
        "%cd /content/gdrive/My\\ Drive/keras_mnist/20221017_tmgw/"
      ],
      "outputs": [
        {
          "output_type": "stream",
          "name": "stdout",
          "text": [
            "/content/gdrive/My Drive\n"
          ]
        }
      ],
      "metadata": {
        "colab": {
          "base_uri": "https://localhost:8080/"
        },
        "id": "dELCnGLXa94L",
        "outputId": "e11fe006-ac7d-4a03-852d-5f9b4a07629b"
      }
    },
    {
      "cell_type": "code",
      "execution_count": 22,
      "source": [
        "# モデルの読み込み\n",
        "model=load_model('MNIST99.h5')"
      ],
      "outputs": [],
      "metadata": {
        "id": "Y7P50CC3A0VV"
      }
    },
    {
      "cell_type": "markdown",
      "source": [
        "## 推論の実行"
      ],
      "metadata": {
        "id": "0Yl-Tg1VA0VZ"
      }
    },
    {
      "cell_type": "code",
      "execution_count": 23,
      "source": [
        "# img_path = 'predict_test.png'\n",
        "img_path = 'number01.png'\n",
        "# 数字画像の読み込み\n",
        "load_image = load_img(img_path, target_size=(28, 28), color_mode=\"grayscale\")\n",
        "img = img_to_array(load_image)\n",
        "# 画像のプレビュー\n",
        "plt.imshow(img.reshape(28,28), cmap=\"gray\")\n",
        "plt.xticks([])\n",
        "plt.yticks([])\n",
        "\n",
        "img_nad = img/255\n",
        "img_nad = img_nad[None, ...]\n",
        "\n",
        "# 推論ラベルの設定\n",
        "label = ['0', '1', '2', '3', '4', '5', '6', '7', '8', '9']\n",
        "# 推論の実行\n",
        "pred = model.predict(img_nad, batch_size=1, verbose=0)\n",
        "\n",
        "# 結果の出力\n",
        "score = np.max(pred)\n",
        "pred_label = label[np.argmax(pred[0])]\n",
        "print('name:',pred_label)\n",
        "print('score:',score)"
      ],
      "outputs": [
        {
          "output_type": "stream",
          "name": "stdout",
          "text": [
            "name: 8\n",
            "score: 0.5750721\n"
          ]
        },
        {
          "output_type": "display_data",
          "data": {
            "text/plain": [
              "<Figure size 432x288 with 1 Axes>"
            ],
            "image/png": "[encoded data removed]"
          },
          "metadata": {}
        }
      ],
      "metadata": {
        "colab": {
          "base_uri": "https://localhost:8080/",
          "height": 288
        },
        "id": "DdxbxRXKA0VZ",
        "outputId": "574bcdb6-f050-4995-d2db-3af8764ee090"
      }
    },
    {
      "cell_type": "markdown",
      "source": [
        "## 推論システムを関数化"
      ],
      "metadata": {
        "id": "yAa6zG3yA0Vc"
      }
    },
    {
      "cell_type": "code",
      "execution_count": 24,
      "source": [
        "def mnist_predict(img_path, invers=False):\n",
        "    load_image = load_img(img_path, target_size=(28, 28), color_mode=\"grayscale\")\n",
        "\n",
        "    img = img_to_array(load_image)\n",
        "    if invers:\n",
        "        img = 255 - img\n",
        "    plt.imshow(img.reshape(28,28), cmap=\"gray\")\n",
        "    plt.xticks([])\n",
        "    plt.yticks([])\n",
        "\n",
        "    img_nad = img/255\n",
        "    img_nad = img_nad[None, ...]\n",
        "    \n",
        "    label = ['0', '1', '2', '3', '4', '5', '6', '7', '8', '9']\n",
        "    pred = model.predict(img_nad, batch_size=1, verbose=0)\n",
        "    score = np.max(pred)\n",
        "    pred_label = label[np.argmax(pred[0])]\n",
        "    print('name:',pred_label)\n",
        "    print('score:',score)"
      ],
      "outputs": [],
      "metadata": {
        "id": "-MWFsLuAA0Vc"
      }
    },
    {
      "cell_type": "markdown",
      "source": [
        "### 関数の実行"
      ],
      "metadata": {
        "id": "5IDM_tAFA0Ve"
      }
    },
    {
      "cell_type": "code",
      "execution_count": 25,
      "source": [
        "mnist_predict(\"number01.png\")"
      ],
      "outputs": [
        {
          "output_type": "stream",
          "name": "stdout",
          "text": [
            "name: 8\n",
            "score: 0.5750721\n"
          ]
        },
        {
          "output_type": "display_data",
          "data": {
            "text/plain": [
              "<Figure size 432x288 with 1 Axes>"
            ],
            "image/png": "[encoded data removed]"
          },
          "metadata": {}
        }
      ],
      "metadata": {
        "colab": {
          "base_uri": "https://localhost:8080/",
          "height": 288
        },
        "id": "ENNoALTiA0Ve",
        "outputId": "cd24af7b-fcbd-4e26-c750-4168d85bc4ca"
      }
    },
    {
      "cell_type": "code",
      "execution_count": null,
      "source": [],
      "outputs": [],
      "metadata": {
        "id": "dyK3cYAJA0Vg"
      }
    },
    {
      "cell_type": "markdown",
      "source": [
        "# インカメラで取った映像をリアルタイムで推論\n",
        "Google ColaboratoryでPCのWebカメラを使用するための設定を行う。\n",
        "1. カメラを実行中に行う処理を記述した関数セル\n",
        "2. カメラを実行してGoolgle Coraboratory上で1.で書いた処理を実行するための関数を記述したセル\n",
        "3. 関数の実行\n",
        "\n",
        "参考Webサイト：【簡単】webカメラでAI自動認識! for Google Colab　https://qiita.com/PoodleMaster/items/480b1da080282b15b584"
      ],
      "metadata": {
        "id": "CiXXcQsQA0Vh"
      }
    },
    {
      "cell_type": "code",
      "execution_count": 26,
      "source": [
        "# 1. カメラを実行中に行う処理を記述した関数セル\n",
        "\n",
        "import IPython\n",
        "from google.colab import output\n",
        "from google.colab.patches import cv2_imshow # incompatible with Jupyter notebook\n",
        "import cv2\n",
        "import numpy as np\n",
        "from PIL import Image, ImageDraw\n",
        "from io import BytesIO\n",
        "import base64\n",
        "\n",
        "\n",
        "def mnist_predict_webcam(cv_img, invers=False):\n",
        "  img = cv2.resize(cv_img, (28, 28))\n",
        "  img = cv2.cvtColor(img, cv2.COLOR_RGB2GRAY)\n",
        "  img = Image.fromarray(img)\n",
        "  img = img_to_array(img)\n",
        "  \n",
        "  if invers:\n",
        "      img = 255 - img\n",
        "  img_nad = img/255\n",
        "  img_nad = img_nad[None, ...]    \n",
        "  label = ['0', '1', '2', '3', '4', '5', '6', '7', '8', '9']\n",
        "  pred = model.predict(img_nad, batch_size=1, verbose=0)\n",
        "  score = np.max(pred)\n",
        "  pred_label = label[np.argmax(pred[0])]\n",
        "  # print('name:',pred_label)\n",
        "  # print('score:',score)\n",
        "  img = cv2.resize(img, (28*7, 28*6)).astype(np.uint8)\n",
        "  return img, score, pred_label\n",
        "\n",
        "def run(img_str):\n",
        "  #decode to image\n",
        "  decimg = base64.b64decode(img_str.split(',')[1], validate=True)\n",
        "  decimg = Image.open(BytesIO(decimg))\n",
        "  decimg = np.array(decimg, dtype=np.uint8); \n",
        "  decimg = cv2.cvtColor(decimg, cv2.COLOR_BGR2RGB)\n",
        "\n",
        "  #############your process###############\n",
        "  decimg = cv2.flip(decimg, 1)\n",
        "  input_img, score, pred_label = mnist_predict_webcam(decimg)\n",
        "\n",
        "  # mnist_predict_webcam()\n",
        "  TXT1 = \"predict results\"\n",
        "  TXT2 = \"name :\" + str(pred_label) + \", score: \" + str(score)\n",
        "  zeros = np.zeros((244, 244), dtype=np.uint8)\n",
        "  img = Image.fromarray(zeros)\n",
        "  input_img = Image.fromarray(input_img)\n",
        "  draw = ImageDraw.Draw(img)\n",
        "  draw.text((15, 5), TXT1, fill=(255))\n",
        "  draw.text((15, 15), TXT2, fill=(255))\n",
        "  img.paste(input_img, (25, 30))\n",
        "  img = np.array(img)\n",
        "\n",
        "  out_img = cv2.resize(img, (224*3, 224*3))               # 拡大表示\n",
        "  #############your process###############\n",
        "\n",
        "  #encode to string\n",
        "  _, encimg = cv2.imencode(\".jpg\", out_img, [int(cv2.IMWRITE_JPEG_QUALITY), 80])\n",
        "  img_str = encimg.tobytes()\n",
        "  img_str = \"data:image/jpeg;base64,\" + base64.b64encode(img_str).decode('utf-8')\n",
        "  return IPython.display.JSON({'img_str': img_str})\n",
        "\n",
        "output.register_callback('notebook.run', run)"
      ],
      "outputs": [],
      "metadata": {
        "id": "GGZJ_Vk2awfc"
      }
    },
    {
      "cell_type": "code",
      "execution_count": 27,
      "source": [
        "# 2. カメラを実行してGoolgle Coraboratory上で1.で書いた処理を実行するための関数を記述したセル\n",
        "from IPython.display import display, Javascript\n",
        "from google.colab.output import eval_js\n",
        "\n",
        "def use_cam(quality=0.8):\n",
        "  js = Javascript('''\n",
        "    async function useCam(quality) {\n",
        "      const div = document.createElement('div');\n",
        "      document.body.appendChild(div);\n",
        "      //video element\n",
        "      const video = document.createElement('video');\n",
        "      video.style.display = 'None';\n",
        "      const stream = await navigator.mediaDevices.getUserMedia({video: true});\n",
        "      div.appendChild(video);\n",
        "      video.srcObject = stream;\n",
        "      await video.play();\n",
        "\n",
        "      //canvas for display. frame rate is depending on display size and jpeg quality.\n",
        "      display_size = 640 \n",
        "      const src_canvas = document.createElement('canvas');\n",
        "      src_canvas.width  = display_size;\n",
        "      src_canvas.height = display_size * video.videoHeight / video.videoWidth;\n",
        "      const src_canvasCtx = src_canvas.getContext('2d');\n",
        "      src_canvasCtx.translate(src_canvas.width, 0);\n",
        "      src_canvasCtx.scale(-1, 1);\n",
        "      div.appendChild(src_canvas);\n",
        "\n",
        "      const dst_canvas = document.createElement('canvas');\n",
        "      dst_canvas.width  = src_canvas.width;\n",
        "      dst_canvas.height = src_canvas.height;\n",
        "      const dst_canvasCtx = dst_canvas.getContext('2d');\n",
        "      div.appendChild(dst_canvas);\n",
        "\n",
        "      //exit button\n",
        "      const btn_div = document.createElement('div');\n",
        "      document.body.appendChild(btn_div);\n",
        "      const exit_btn = document.createElement('button');\n",
        "      exit_btn.textContent = 'Exit';\n",
        "      var exit_flg = true\n",
        "      exit_btn.onclick = function() {exit_flg = false};\n",
        "      btn_div.appendChild(exit_btn);\n",
        "\n",
        "      // Resize the output to fit the video element.\n",
        "      google.colab.output.setIframeHeight(document.documentElement.scrollHeight, true);\n",
        "\n",
        "      var send_num = 0\n",
        "      // loop\n",
        "      _canvasUpdate();\n",
        "      async function _canvasUpdate() {\n",
        "            src_canvasCtx.drawImage(video, 0, 0, video.videoWidth, video.videoHeight, 0, 0, src_canvas.width, src_canvas.height);     \n",
        "            if (send_num<1){\n",
        "                send_num += 1\n",
        "                const img = src_canvas.toDataURL('image/jpeg', quality);\n",
        "                const result = google.colab.kernel.invokeFunction('notebook.run', [img], {});\n",
        "                result.then(function(value) {\n",
        "                    parse = JSON.parse(JSON.stringify(value))[\"data\"]\n",
        "                    parse = JSON.parse(JSON.stringify(parse))[\"application/json\"]\n",
        "                    parse = JSON.parse(JSON.stringify(parse))[\"img_str\"]\n",
        "                    var image = new Image()\n",
        "                    image.src = parse;\n",
        "                    image.onload = function(){dst_canvasCtx.drawImage(image, 0, 0)}\n",
        "                    send_num -= 1\n",
        "                })\n",
        "            }\n",
        "            if (exit_flg){\n",
        "                requestAnimationFrame(_canvasUpdate);   \n",
        "            }else{\n",
        "                stream.getVideoTracks()[0].stop();\n",
        "            }\n",
        "      };\n",
        "    }\n",
        "    ''')\n",
        "  display(js)\n",
        "  data = eval_js('useCam({})'.format(quality))"
      ],
      "outputs": [],
      "metadata": {
        "id": "z-PMeCune3eP"
      }
    },
    {
      "cell_type": "code",
      "execution_count": null,
      "source": [
        "# 3. 関数の実行\n",
        "\n",
        "use_cam()"
      ],
      "outputs": [],
      "metadata": {
        "id": "Sof4xoaee4-S"
      }
    },
    {
      "cell_type": "code",
      "execution_count": null,
      "source": [],
      "outputs": [],
      "metadata": {
        "id": "21fRsls2A0Vl"
      }
    }
  ]
}